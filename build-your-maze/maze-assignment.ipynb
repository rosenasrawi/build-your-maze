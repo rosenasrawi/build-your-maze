{
 "cells": [
  {
   "cell_type": "markdown",
   "metadata": {},
   "source": [
    "### Build your own maze\n",
    "\n",
    "Go through the following code blocks and fill in the missing parts. \n",
    "\n",
    "You will work in pairs, and the ultimate goal is to generate a maze using Depth-first search."
   ]
  },
  {
   "cell_type": "markdown",
   "metadata": {},
   "source": [
    "Import the relevant modules"
   ]
  },
  {
   "cell_type": "code",
   "execution_count": null,
   "metadata": {},
   "outputs": [],
   "source": [
    "import random"
   ]
  },
  {
   "cell_type": "markdown",
   "metadata": {},
   "source": [
    "Function to visualize your maze"
   ]
  },
  {
   "cell_type": "code",
   "execution_count": null,
   "metadata": {},
   "outputs": [],
   "source": [
    "def print_maze(maze):\n",
    "    for row in maze:\n",
    "        print(' '.join(map(str, row)))"
   ]
  },
  {
   "cell_type": "markdown",
   "metadata": {},
   "source": [
    "Create an empty maze"
   ]
  },
  {
   "cell_type": "code",
   "execution_count": null,
   "metadata": {},
   "outputs": [],
   "source": [
    "wall = '#'\n",
    "\n",
    "rows = 25\n",
    "cols = 25\n",
    "\n",
    "# Generate your empty maze:\n",
    "maze = [[... for r in range(...)] for c in range(...)]\n",
    "\n",
    "# Show your maze using print_maze()\n",
    "..."
   ]
  },
  {
   "cell_type": "markdown",
   "metadata": {},
   "source": [
    "Define a starting point and set-up DFS"
   ]
  },
  {
   "cell_type": "code",
   "execution_count": null,
   "metadata": {},
   "outputs": [],
   "source": [
    "start = (0,0)\n",
    "\n",
    "stack = []\n",
    "path = ' '\n",
    "\n",
    "# Create first piece of path at (0,0):\n",
    "maze[...][...] = ...\n",
    "\n",
    "# Add start position to stack\n",
    "stack.append(...)\n",
    "\n",
    "# Show the updated maze\n",
    "..."
   ]
  },
  {
   "cell_type": "markdown",
   "metadata": {},
   "source": [
    "Use depth-first search to generate your maze"
   ]
  },
  {
   "cell_type": "code",
   "execution_count": null,
   "metadata": {},
   "outputs": [],
   "source": [
    "# Create path in four possible directions:\n",
    "moves = [(0,-2), (0,2), (-2,0), (2,0)]\n",
    "\n",
    "# While we still places to go:\n",
    "while stack:\n",
    "    \n",
    "    # Last item in the stack:\n",
    "    row, col = stack[...]\n",
    "\n",
    "    # Randomize your moves:\n",
    "    random.shuffle(moves)\n",
    "\n",
    "    # For all directions in moves:\n",
    "    for dr, dc in moves:\n",
    "        \n",
    "        # The updated position:\n",
    "        nrow = row + ...\n",
    "        ncol = col + ...\n",
    "\n",
    "        # Determine if this position is on the board:\n",
    "        on_the_board = 0 <= nrow < rows and ...\n",
    "\n",
    "        if on_the_board:\n",
    "\n",
    "            # Have we been here before?\n",
    "            not_visited = maze[...][...] == ...\n",
    "\n",
    "            if not_visited:\n",
    "\n",
    "                # Create new path (note: two steps!)\n",
    "                maze[row + ...][col + ...] = path\n",
    "                maze[row + ...//2][col + ...//2] = path\n",
    "\n",
    "                # Add updated position to the stack\n",
    "                stack.append((..., ...))\n",
    "\n",
    "                break # Can you think why?\n",
    "\n",
    "    # If we couldn't go anywhere:\n",
    "    else:\n",
    "        \n",
    "        # Remove last item from stack\n",
    "        stack.pop()"
   ]
  },
  {
   "cell_type": "markdown",
   "metadata": {},
   "source": [
    "Build a wall around your maze"
   ]
  },
  {
   "cell_type": "code",
   "execution_count": null,
   "metadata": {},
   "outputs": [],
   "source": [
    "maze = [[wall] * rows] + maze + [[wall] * rows]\n",
    "maze = [[wall] + m + [wall] for m in maze]\n",
    "\n",
    "maze[rows][cols+1] = path\n",
    "maze[1][0] = path"
   ]
  },
  {
   "cell_type": "markdown",
   "metadata": {},
   "source": [
    "Show the final result"
   ]
  },
  {
   "cell_type": "code",
   "execution_count": null,
   "metadata": {},
   "outputs": [],
   "source": [
    "# Show the final maze:\n",
    "..."
   ]
  },
  {
   "cell_type": "markdown",
   "metadata": {},
   "source": [
    "Bonus: Can you think of a way to solve this maze with code as well?\n",
    "\n",
    "*hint* you want to get out as fast as possible, so you do NOT want to keep search until you reach dead ends"
   ]
  },
  {
   "cell_type": "code",
   "execution_count": 2,
   "metadata": {},
   "outputs": [],
   "source": [
    "# pseudo code:\n",
    "\n",
    "# define start and end\n",
    "# define move directions\n",
    "\n",
    "# make a queue\n",
    "\n",
    "# while you haven't reached the end\n",
    "#     get next coordinate\n",
    "#     mark this spot as visited\n",
    "\n",
    "#     if you've reached the end:\n",
    "#          stop searching\n",
    "\n",
    "#     in all other cases:\n",
    "#     go through your move directions\n",
    "#     add it to the queue if you can go that way\n"
   ]
  }
 ],
 "metadata": {
  "kernelspec": {
   "display_name": "data-science",
   "language": "python",
   "name": "python3"
  },
  "language_info": {
   "codemirror_mode": {
    "name": "ipython",
    "version": 3
   },
   "file_extension": ".py",
   "mimetype": "text/x-python",
   "name": "python",
   "nbconvert_exporter": "python",
   "pygments_lexer": "ipython3",
   "version": "3.10.4"
  }
 },
 "nbformat": 4,
 "nbformat_minor": 2
}
